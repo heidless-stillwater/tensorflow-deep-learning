{
 "cells": [
  {
   "cell_type": "markdown",
   "id": "d25e6a98-8b41-4c30-be2d-bf8913f971d2",
   "metadata": {},
   "source": [
    "# intro to tensors"
   ]
  },
  {
   "cell_type": "code",
   "execution_count": 69,
   "id": "65574b40-fac5-4258-ba44-857a5221a560",
   "metadata": {},
   "outputs": [
    {
     "name": "stdout",
     "output_type": "stream",
     "text": [
      "2.18.0\n"
     ]
    }
   ],
   "source": [
    "# import tensorflow\n",
    "import tensorflow as tf\n",
    "print(tf.__version__)\n"
   ]
  },
  {
   "cell_type": "markdown",
   "id": "807d3cdc-4423-49e3-abf6-e4012fa6cd63",
   "metadata": {},
   "source": [
    "## `tf.constant`"
   ]
  },
  {
   "cell_type": "code",
   "execution_count": 70,
   "id": "4a142e42-294c-48a2-ad74-05728f741788",
   "metadata": {},
   "outputs": [
    {
     "data": {
      "text/plain": [
       "<tf.Tensor: shape=(), dtype=int32, numpy=7>"
      ]
     },
     "execution_count": 70,
     "metadata": {},
     "output_type": "execute_result"
    }
   ],
   "source": [
    "# creating tensors with tf.constant()\n",
    "# create a constant tensor from a tensor-like object\n",
    "scalar =  tf.constant(7)\n",
    "scalar\n"
   ]
  },
  {
   "cell_type": "code",
   "execution_count": 71,
   "id": "ecb7b8b5-d06b-4ee1-8471-063a04821982",
   "metadata": {},
   "outputs": [
    {
     "data": {
      "text/plain": [
       "0"
      ]
     },
     "execution_count": 71,
     "metadata": {},
     "output_type": "execute_result"
    }
   ],
   "source": [
    "# check the number of dimensions of a tensor (ndim is the number opf dimensions)\n",
    "scalar.ndim"
   ]
  },
  {
   "cell_type": "code",
   "execution_count": 72,
   "id": "0b964f4c-c0cc-4b39-a38e-990b36a6c281",
   "metadata": {},
   "outputs": [
    {
     "data": {
      "text/plain": [
       "<tf.Tensor: shape=(2,), dtype=int32, numpy=array([10, 10], dtype=int32)>"
      ]
     },
     "execution_count": 72,
     "metadata": {},
     "output_type": "execute_result"
    }
   ],
   "source": [
    "# create a vector\n",
    "vector = tf.constant([10, 10])\n",
    "vector"
   ]
  },
  {
   "cell_type": "code",
   "execution_count": 73,
   "id": "019d6186-486b-41d1-86ee-a99cf6182dd0",
   "metadata": {},
   "outputs": [
    {
     "data": {
      "text/plain": [
       "1"
      ]
     },
     "execution_count": 73,
     "metadata": {},
     "output_type": "execute_result"
    }
   ],
   "source": [
    "# check dimension of our vector\n",
    "vector.ndim"
   ]
  },
  {
   "cell_type": "code",
   "execution_count": 74,
   "id": "f1faf176-0f85-4661-9bb9-7e40aa822b99",
   "metadata": {},
   "outputs": [
    {
     "data": {
      "text/plain": [
       "<tf.Tensor: shape=(2, 2), dtype=int32, numpy=\n",
       "array([[10,  7],\n",
       "       [ 7, 10]], dtype=int32)>"
      ]
     },
     "execution_count": 74,
     "metadata": {},
     "output_type": "execute_result"
    }
   ],
   "source": [
    "# create a matrix\n",
    "matrix = tf.constant([[10, 7],\n",
    "                      [7, 10]] )\n",
    "matrix"
   ]
  },
  {
   "cell_type": "code",
   "execution_count": 75,
   "id": "c6fb56c7-7207-40a9-b0c9-4b17ca98f408",
   "metadata": {},
   "outputs": [
    {
     "data": {
      "text/plain": [
       "2"
      ]
     },
     "execution_count": 75,
     "metadata": {},
     "output_type": "execute_result"
    }
   ],
   "source": [
    "matrix.ndim"
   ]
  },
  {
   "cell_type": "code",
   "execution_count": 76,
   "id": "eb03c942-3737-4674-acda-ab863d1ae604",
   "metadata": {},
   "outputs": [
    {
     "data": {
      "text/plain": [
       "<tf.Tensor: shape=(3, 2), dtype=float16, numpy=\n",
       "array([[10.,  7.],\n",
       "       [ 3.,  2.],\n",
       "       [ 8.,  9.]], dtype=float16)>"
      ]
     },
     "execution_count": 76,
     "metadata": {},
     "output_type": "execute_result"
    }
   ],
   "source": [
    "# another matrix\n",
    "another_matrix = tf.constant([\n",
    "                                [10., 7.], \n",
    "                                [3., 2.],\n",
    "                                [8., 9.]\n",
    "                            ], dtype=tf.float16)\n",
    "another_matrix"
   ]
  },
  {
   "cell_type": "code",
   "execution_count": 77,
   "id": "729ed185-3047-4553-85c2-7a025b5609fd",
   "metadata": {},
   "outputs": [
    {
     "data": {
      "text/plain": [
       "2"
      ]
     },
     "execution_count": 77,
     "metadata": {},
     "output_type": "execute_result"
    }
   ],
   "source": [
    "another_matrix.ndim"
   ]
  },
  {
   "cell_type": "code",
   "execution_count": 78,
   "id": "9e042847-794d-4c77-b5a7-0370f6099718",
   "metadata": {},
   "outputs": [
    {
     "data": {
      "text/plain": [
       "<tf.Tensor: shape=(3, 2, 3), dtype=int32, numpy=\n",
       "array([[[ 1,  2,  3],\n",
       "        [ 4,  5,  6]],\n",
       "\n",
       "       [[ 7,  8,  9],\n",
       "        [10, 11, 12]],\n",
       "\n",
       "       [[13, 14, 15],\n",
       "        [16, 17, 18]]], dtype=int32)>"
      ]
     },
     "execution_count": 78,
     "metadata": {},
     "output_type": "execute_result"
    }
   ],
   "source": [
    "# create a tensor\n",
    "tensor = tf.constant([\n",
    "                        [\n",
    "                            [1, 2, 3],\n",
    "                            [4, 5, 6]\n",
    "                        ],\n",
    "                        [\n",
    "                            [7, 8, 9],\n",
    "                            [10, 11, 12]\n",
    "                        ],\n",
    "                        [\n",
    "                            [13, 14, 15],\n",
    "                            [16, 17, 18]\n",
    "                        ]\n",
    "                    ])\n",
    "tensor\n"
   ]
  },
  {
   "cell_type": "code",
   "execution_count": 79,
   "id": "95bb69e5-87b7-4772-b0d8-69e89f4a0234",
   "metadata": {},
   "outputs": [
    {
     "data": {
      "text/plain": [
       "3"
      ]
     },
     "execution_count": 79,
     "metadata": {},
     "output_type": "execute_result"
    }
   ],
   "source": [
    "tensor.ndim"
   ]
  },
  {
   "cell_type": "markdown",
   "id": "f2b47d80-2eb2-420d-be02-23ea34f73789",
   "metadata": {},
   "source": [
    "## `tf.Variable`"
   ]
  },
  {
   "cell_type": "code",
   "execution_count": 80,
   "id": "5fbfa0e4-7c56-4190-a336-73abbad31f7d",
   "metadata": {},
   "outputs": [
    {
     "data": {
      "text/plain": [
       "tensorflow.python.ops.variables.Variable"
      ]
     },
     "execution_count": 80,
     "metadata": {},
     "output_type": "execute_result"
    }
   ],
   "source": [
    "tf.Variable"
   ]
  },
  {
   "cell_type": "code",
   "execution_count": 81,
   "id": "5a53ac6e-2585-43f8-b102-60127e81d2bf",
   "metadata": {},
   "outputs": [
    {
     "data": {
      "text/plain": [
       "(<tf.Variable 'Variable:0' shape=(2,) dtype=int32, numpy=array([15,  5], dtype=int32)>,\n",
       " <tf.Tensor: shape=(2,), dtype=int32, numpy=array([15,  5], dtype=int32)>)"
      ]
     },
     "execution_count": 81,
     "metadata": {},
     "output_type": "execute_result"
    }
   ],
   "source": [
    "changeable_tensor = tf.Variable([15, 5])\n",
    "unchangeable_tensor = tf.constant([15, 5])\n",
    "changeable_tensor, unchangeable_tensor"
   ]
  },
  {
   "cell_type": "code",
   "execution_count": 82,
   "id": "afffa26c-b067-40c8-9a4b-03cf6402c253",
   "metadata": {},
   "outputs": [],
   "source": [
    "# changeable_tensor.ndim"
   ]
  },
  {
   "cell_type": "code",
   "execution_count": 83,
   "id": "5592802e-ac4c-42fe-be3d-c2cacda4b91e",
   "metadata": {},
   "outputs": [
    {
     "data": {
      "text/plain": [
       "<tf.Variable 'UnreadVariable' shape=(2,) dtype=int32, numpy=array([20,  5], dtype=int32)>"
      ]
     },
     "execution_count": 83,
     "metadata": {},
     "output_type": "execute_result"
    }
   ],
   "source": [
    "# change elements\n",
    "changeable_tensor[0].assign(20)"
   ]
  },
  {
   "cell_type": "markdown",
   "id": "b38644de-a267-4599-ba5c-82c958710f3f",
   "metadata": {},
   "source": [
    "# random tensors"
   ]
  },
  {
   "cell_type": "markdown",
   "id": "0e14cb97-00df-4a6c-9876-827d15f05134",
   "metadata": {},
   "source": [
    "sTensors of some arbirary size which contains random numbers\n",
    "\n",
    "Useful to initialise the patterns/weights - then values are adjusted as model is trained\n"
   ]
  },
  {
   "cell_type": "code",
   "execution_count": 84,
   "id": "1ef01fcc-c9ca-41dc-ba36-84eb763fe6f7",
   "metadata": {},
   "outputs": [
    {
     "data": {
      "text/plain": [
       "(<tensorflow.python.ops.stateful_random_ops.Generator at 0x7fb052b635d0>,\n",
       " <tensorflow.python.ops.stateful_random_ops.Generator at 0x7fb0585a5f50>,\n",
       " False)"
      ]
     },
     "execution_count": 84,
     "metadata": {},
     "output_type": "execute_result"
    }
   ],
   "source": [
    "random_1 = tf.random.Generator.from_seed(42)\n",
    "random_1.normal(shape=(3, 2))\n",
    "\n",
    "random_2 = tf.random.Generator.from_seed(42)\n",
    "random_2.normal(shape=(3, 2))\n",
    "\n",
    "# are they equal\n",
    "random_1, random_2, random_1 == random_2\n"
   ]
  },
  {
   "cell_type": "code",
   "execution_count": 85,
   "id": "696f6ea4-0646-469f-8aa9-8f6df96a6028",
   "metadata": {},
   "outputs": [
    {
     "name": "stdout",
     "output_type": "stream",
     "text": [
      "tf.Tensor(\n",
      "[[ 0.17522676  0.71105534]\n",
      " [ 0.54882437  0.14896014]\n",
      " [-0.54757965  0.61634356]], shape=(3, 2), dtype=float32)\n"
     ]
    }
   ],
   "source": [
    "print(random_1.normal(shape=[3, 2]))"
   ]
  },
  {
   "cell_type": "code",
   "execution_count": 86,
   "id": "b7794e17-4614-48a0-a318-a2d1a5e9b449",
   "metadata": {},
   "outputs": [
    {
     "name": "stdout",
     "output_type": "stream",
     "text": [
      "tf.Tensor(\n",
      "[[ 0.17522676  0.71105534]\n",
      " [ 0.54882437  0.14896014]\n",
      " [-0.54757965  0.61634356]], shape=(3, 2), dtype=float32)\n"
     ]
    }
   ],
   "source": [
    "print(random_2.normal(shape=[3, 2]))"
   ]
  },
  {
   "cell_type": "code",
   "execution_count": 87,
   "id": "c34c0beb-47e9-4309-ae2a-9aceb12b39d8",
   "metadata": {},
   "outputs": [
    {
     "data": {
      "text/plain": [
       "False"
      ]
     },
     "execution_count": 87,
     "metadata": {},
     "output_type": "execute_result"
    }
   ],
   "source": [
    "random_1 == random_2"
   ]
  },
  {
   "cell_type": "markdown",
   "id": "6bd10506-a992-4327-972c-3ddf55069890",
   "metadata": {},
   "source": [
    "## shuffle the order of elements in a tensor\n",
    "Valuable when you want to shuffle your data so the inherent order doesn't affect learning"
   ]
  },
  {
   "cell_type": "code",
   "execution_count": 88,
   "id": "085f5e30-af34-491a-aeeb-e73deb29b6c8",
   "metadata": {},
   "outputs": [
    {
     "data": {
      "text/plain": [
       "<tf.Tensor: shape=(3, 2), dtype=int32, numpy=\n",
       "array([[10,  7],\n",
       "       [ 3,  4],\n",
       "       [ 2,  5]], dtype=int32)>"
      ]
     },
     "execution_count": 88,
     "metadata": {},
     "output_type": "execute_result"
    }
   ],
   "source": [
    "not_shuffled = tf.constant([\n",
    "                                [10, 7],\n",
    "                                [3, 4],\n",
    "                                [2, 5]\n",
    "])\n",
    "not_shuffled\n",
    "\n"
   ]
  },
  {
   "cell_type": "code",
   "execution_count": 89,
   "id": "21612cf9-20fa-4e42-b4f7-d961f882560c",
   "metadata": {},
   "outputs": [
    {
     "data": {
      "text/plain": [
       "2"
      ]
     },
     "execution_count": 89,
     "metadata": {},
     "output_type": "execute_result"
    }
   ],
   "source": [
    "not_shuffled.ndim\n"
   ]
  },
  {
   "cell_type": "code",
   "execution_count": 90,
   "id": "659503be-a318-42a5-9e85-0e33ef0ac673",
   "metadata": {},
   "outputs": [
    {
     "data": {
      "text/plain": [
       "<tf.Tensor: shape=(3, 2), dtype=int32, numpy=\n",
       "array([[10,  7],\n",
       "       [ 3,  4],\n",
       "       [ 2,  5]], dtype=int32)>"
      ]
     },
     "execution_count": 90,
     "metadata": {},
     "output_type": "execute_result"
    }
   ],
   "source": [
    "tf.random.set_seed(42)\n",
    "shuffled = tf.random.shuffle(not_shuffled, seed=42)\n",
    "shuffled"
   ]
  },
  {
   "cell_type": "markdown",
   "id": "51be7a16-92aa-46b7-a32a-293bec67d219",
   "metadata": {},
   "source": [
    "## create a tensor of all '1's"
   ]
  },
  {
   "cell_type": "code",
   "execution_count": 91,
   "id": "5d8405b6-84ad-4677-80f4-db158c777b22",
   "metadata": {},
   "outputs": [
    {
     "data": {
      "text/plain": [
       "<tf.Tensor: shape=(10, 7), dtype=float32, numpy=\n",
       "array([[1., 1., 1., 1., 1., 1., 1.],\n",
       "       [1., 1., 1., 1., 1., 1., 1.],\n",
       "       [1., 1., 1., 1., 1., 1., 1.],\n",
       "       [1., 1., 1., 1., 1., 1., 1.],\n",
       "       [1., 1., 1., 1., 1., 1., 1.],\n",
       "       [1., 1., 1., 1., 1., 1., 1.],\n",
       "       [1., 1., 1., 1., 1., 1., 1.],\n",
       "       [1., 1., 1., 1., 1., 1., 1.],\n",
       "       [1., 1., 1., 1., 1., 1., 1.],\n",
       "       [1., 1., 1., 1., 1., 1., 1.]], dtype=float32)>"
      ]
     },
     "execution_count": 91,
     "metadata": {},
     "output_type": "execute_result"
    }
   ],
   "source": [
    "tf.ones([10, 7])"
   ]
  },
  {
   "cell_type": "markdown",
   "id": "b6eeb2ee-fc9d-4da5-8b8d-33f8967f08c8",
   "metadata": {},
   "source": [
    "## create a tensor of all '1's"
   ]
  },
  {
   "cell_type": "code",
   "execution_count": 92,
   "id": "1a157c13-2dca-4dde-981c-7246825940d7",
   "metadata": {},
   "outputs": [
    {
     "data": {
      "text/plain": [
       "<tf.Tensor: shape=(3, 4), dtype=float32, numpy=\n",
       "array([[0., 0., 0., 0.],\n",
       "       [0., 0., 0., 0.],\n",
       "       [0., 0., 0., 0.]], dtype=float32)>"
      ]
     },
     "execution_count": 92,
     "metadata": {},
     "output_type": "execute_result"
    }
   ],
   "source": [
    "tf.zeros(shape=(3, 4))"
   ]
  },
  {
   "cell_type": "markdown",
   "id": "d6cea1c1-611b-4c23-8c11-7b8594d32977",
   "metadata": {},
   "source": [
    "## convert nump arrays into tensors\n",
    "\n",
    "the main difference between NumPy arrays and Tensorflow tensors is that tensors can be run on a GPU (much faster for numerical computing)"
   ]
  },
  {
   "cell_type": "markdown",
   "id": "71589b4d-14ab-46f5-86d9-73c676b56d5f",
   "metadata": {},
   "source": [
    "### convert NumPy arrays into tensors"
   ]
  },
  {
   "cell_type": "code",
   "execution_count": 93,
   "id": "fe40ac45-2941-469c-b6ad-d4b201f73d12",
   "metadata": {},
   "outputs": [
    {
     "data": {
      "text/plain": [
       "array([ 1,  2,  3,  4,  5,  6,  7,  8,  9, 10, 11, 12, 13, 14, 15, 16, 17,\n",
       "       18, 19, 20, 21, 22, 23, 24], dtype=int32)"
      ]
     },
     "execution_count": 93,
     "metadata": {},
     "output_type": "execute_result"
    }
   ],
   "source": [
    "import numpy as np\n",
    "numpy_A = np.arange(1, 25, dtype=np.int32) # create a NumPy array between 1 & 25\n",
    "\n",
    "numpy_A\n",
    "\n",
    "# x = tf.constant(some_matrix) # capital for matrix or tensor\n",
    "# y = tf.constant(vector) # non-capital for vector\n"
   ]
  },
  {
   "cell_type": "code",
   "execution_count": 94,
   "id": "2768f927-a225-45b5-9dcd-9002a5f2f4c2",
   "metadata": {},
   "outputs": [
    {
     "data": {
      "text/plain": [
       "(<tf.Tensor: shape=(3, 8), dtype=int32, numpy=\n",
       " array([[ 1,  2,  3,  4,  5,  6,  7,  8],\n",
       "        [ 9, 10, 11, 12, 13, 14, 15, 16],\n",
       "        [17, 18, 19, 20, 21, 22, 23, 24]], dtype=int32)>,\n",
       " <tf.Tensor: shape=(24,), dtype=int32, numpy=\n",
       " array([ 1,  2,  3,  4,  5,  6,  7,  8,  9, 10, 11, 12, 13, 14, 15, 16, 17,\n",
       "        18, 19, 20, 21, 22, 23, 24], dtype=int32)>)"
      ]
     },
     "execution_count": 94,
     "metadata": {},
     "output_type": "execute_result"
    }
   ],
   "source": [
    "A = tf.constant(numpy_A, shape=(3, 8))\n",
    "B = tf.constant(numpy_A)\n",
    "A, B"
   ]
  },
  {
   "cell_type": "code",
   "execution_count": 95,
   "id": "42cf3d7a-7fd7-4324-872f-530dec0657f0",
   "metadata": {},
   "outputs": [
    {
     "data": {
      "text/plain": [
       "2"
      ]
     },
     "execution_count": 95,
     "metadata": {},
     "output_type": "execute_result"
    }
   ],
   "source": [
    "A.ndim"
   ]
  },
  {
   "cell_type": "markdown",
   "id": "260978bb-bcf0-4977-b791-4868dce3a751",
   "metadata": {},
   "source": [
    "## get info from tensors\n",
    "- #### shape\n",
    "    - length (number of elements) of each of the dimension of a tensor\n",
    "    - `tensor.shape`\n",
    "- #### rank\n",
    "    - the number of tensor dimensions. a scalar has rank 0, a vector has rank 1, a metrix is rank 2, a tensor has rank $n$\n",
    "    - `tensor.ndim`\n",
    "- #### axis or dimension\n",
    "    - a particular dimension of a tensor\n",
    "    - `tensor[0]. tensor[:, 1]_`\n",
    "- #### size\n",
    "    - the total number of items in the tensor\n",
    "    - `tf.size(tensor)`\n",
    " "
   ]
  },
  {
   "cell_type": "code",
   "execution_count": 96,
   "id": "ef13e850-45e0-49c7-87b6-df85e46fdd4f",
   "metadata": {},
   "outputs": [
    {
     "data": {
      "text/plain": [
       "<tf.Tensor: shape=(2, 5, 3, 9), dtype=float32, numpy=\n",
       "array([[[[0., 0., 0., 0., 0., 0., 0., 0., 0.],\n",
       "         [0., 0., 0., 0., 0., 0., 0., 0., 0.],\n",
       "         [0., 0., 0., 0., 0., 0., 0., 0., 0.]],\n",
       "\n",
       "        [[0., 0., 0., 0., 0., 0., 0., 0., 0.],\n",
       "         [0., 0., 0., 0., 0., 0., 0., 0., 0.],\n",
       "         [0., 0., 0., 0., 0., 0., 0., 0., 0.]],\n",
       "\n",
       "        [[0., 0., 0., 0., 0., 0., 0., 0., 0.],\n",
       "         [0., 0., 0., 0., 0., 0., 0., 0., 0.],\n",
       "         [0., 0., 0., 0., 0., 0., 0., 0., 0.]],\n",
       "\n",
       "        [[0., 0., 0., 0., 0., 0., 0., 0., 0.],\n",
       "         [0., 0., 0., 0., 0., 0., 0., 0., 0.],\n",
       "         [0., 0., 0., 0., 0., 0., 0., 0., 0.]],\n",
       "\n",
       "        [[0., 0., 0., 0., 0., 0., 0., 0., 0.],\n",
       "         [0., 0., 0., 0., 0., 0., 0., 0., 0.],\n",
       "         [0., 0., 0., 0., 0., 0., 0., 0., 0.]]],\n",
       "\n",
       "\n",
       "       [[[0., 0., 0., 0., 0., 0., 0., 0., 0.],\n",
       "         [0., 0., 0., 0., 0., 0., 0., 0., 0.],\n",
       "         [0., 0., 0., 0., 0., 0., 0., 0., 0.]],\n",
       "\n",
       "        [[0., 0., 0., 0., 0., 0., 0., 0., 0.],\n",
       "         [0., 0., 0., 0., 0., 0., 0., 0., 0.],\n",
       "         [0., 0., 0., 0., 0., 0., 0., 0., 0.]],\n",
       "\n",
       "        [[0., 0., 0., 0., 0., 0., 0., 0., 0.],\n",
       "         [0., 0., 0., 0., 0., 0., 0., 0., 0.],\n",
       "         [0., 0., 0., 0., 0., 0., 0., 0., 0.]],\n",
       "\n",
       "        [[0., 0., 0., 0., 0., 0., 0., 0., 0.],\n",
       "         [0., 0., 0., 0., 0., 0., 0., 0., 0.],\n",
       "         [0., 0., 0., 0., 0., 0., 0., 0., 0.]],\n",
       "\n",
       "        [[0., 0., 0., 0., 0., 0., 0., 0., 0.],\n",
       "         [0., 0., 0., 0., 0., 0., 0., 0., 0.],\n",
       "         [0., 0., 0., 0., 0., 0., 0., 0., 0.]]]], dtype=float32)>"
      ]
     },
     "execution_count": 96,
     "metadata": {},
     "output_type": "execute_result"
    }
   ],
   "source": [
    "# create a rank 4 tensor (4 dimensions)\n",
    "# rank_4_tensor = tf.ones(shape=(2, 5, 3, 9))\n",
    "rank_4_tensor = tf.zeros(shape=(2, 5, 3, 9))\n",
    "rank_4_tensor"
   ]
  },
  {
   "cell_type": "code",
   "execution_count": 97,
   "id": "b181ed71-c9d2-4158-abef-a4de5dfe274b",
   "metadata": {},
   "outputs": [
    {
     "data": {
      "text/plain": [
       "<tf.Tensor: shape=(5, 3, 9), dtype=float32, numpy=\n",
       "array([[[0., 0., 0., 0., 0., 0., 0., 0., 0.],\n",
       "        [0., 0., 0., 0., 0., 0., 0., 0., 0.],\n",
       "        [0., 0., 0., 0., 0., 0., 0., 0., 0.]],\n",
       "\n",
       "       [[0., 0., 0., 0., 0., 0., 0., 0., 0.],\n",
       "        [0., 0., 0., 0., 0., 0., 0., 0., 0.],\n",
       "        [0., 0., 0., 0., 0., 0., 0., 0., 0.]],\n",
       "\n",
       "       [[0., 0., 0., 0., 0., 0., 0., 0., 0.],\n",
       "        [0., 0., 0., 0., 0., 0., 0., 0., 0.],\n",
       "        [0., 0., 0., 0., 0., 0., 0., 0., 0.]],\n",
       "\n",
       "       [[0., 0., 0., 0., 0., 0., 0., 0., 0.],\n",
       "        [0., 0., 0., 0., 0., 0., 0., 0., 0.],\n",
       "        [0., 0., 0., 0., 0., 0., 0., 0., 0.]],\n",
       "\n",
       "       [[0., 0., 0., 0., 0., 0., 0., 0., 0.],\n",
       "        [0., 0., 0., 0., 0., 0., 0., 0., 0.],\n",
       "        [0., 0., 0., 0., 0., 0., 0., 0., 0.]]], dtype=float32)>"
      ]
     },
     "execution_count": 97,
     "metadata": {},
     "output_type": "execute_result"
    }
   ],
   "source": [
    "rank_4_tensor[0]"
   ]
  },
  {
   "cell_type": "code",
   "execution_count": 98,
   "id": "885a13e6-17d5-4ffc-bb8b-2ba9e80c20b8",
   "metadata": {},
   "outputs": [
    {
     "data": {
      "text/plain": [
       "<tf.Tensor: shape=(3, 2, 4, 6), dtype=float32, numpy=\n",
       "array([[[[-0.7565803 , -0.06854702,  0.07595026, -1.2573844 ,\n",
       "          -0.23193763, -1.8107855 ],\n",
       "         [ 0.09988727, -0.50998646, -0.7535805 , -0.57166284,\n",
       "           0.1480774 , -0.23362993],\n",
       "         [-0.3522796 ,  0.40621263, -1.0523509 ,  1.2054597 ,\n",
       "           1.6874489 , -0.4462975 ],\n",
       "         [-2.3410842 ,  0.99009085, -0.0876323 , -0.635568  ,\n",
       "          -0.6161736 , -1.9441465 ]],\n",
       "\n",
       "        [[-0.48293006, -0.52447474, -1.0345329 ,  1.3066901 ,\n",
       "          -1.5184573 , -0.4585211 ],\n",
       "         [ 0.5714663 , -1.5331722 ,  0.45331386,  1.1487608 ,\n",
       "          -1.2659091 , -0.47450137],\n",
       "         [ 2.006022  ,  0.28288034, -0.30288252, -1.443651  ,\n",
       "           1.0034493 ,  0.20857747],\n",
       "         [ 0.35700995,  1.0648885 ,  1.2432485 , -2.2173238 ,\n",
       "           0.18706243,  0.6617961 ]]],\n",
       "\n",
       "\n",
       "       [[[ 0.01380118, -0.24827152,  1.2111493 , -0.7199124 ,\n",
       "          -0.04082382,  2.6791053 ],\n",
       "         [ 1.0914806 ,  0.33149615, -0.67958915,  0.44723678,\n",
       "          -0.17811584,  0.24882518],\n",
       "         [ 0.49689844,  0.8259971 ,  1.0340209 , -0.24918638,\n",
       "          -1.5780283 , -0.92161775],\n",
       "         [ 0.268676  ,  0.9418312 , -0.9465717 , -0.7108357 ,\n",
       "           1.2995545 , -0.6149066 ]],\n",
       "\n",
       "        [[-1.4713507 , -0.10086866,  0.9603877 , -1.6370124 ,\n",
       "           0.17664973, -0.67038715],\n",
       "         [-0.503455  , -1.203792  , -2.5255601 ,  0.05080947,\n",
       "           1.7212061 , -0.6575125 ],\n",
       "         [ 0.7939443 ,  1.3212339 ,  0.34584793, -0.6699328 ,\n",
       "           0.4604257 ,  0.514933  ],\n",
       "         [-0.06519881, -1.442522  , -0.48492542, -1.8364043 ,\n",
       "           0.91463274,  0.5145402 ]]],\n",
       "\n",
       "\n",
       "       [[[ 0.5517507 , -0.3741098 , -0.28709963,  1.5089895 ,\n",
       "          -0.14833727, -1.2846565 ],\n",
       "         [ 0.5484313 ,  0.10596129,  0.21793836,  0.7063839 ,\n",
       "          -0.19219153,  1.1390278 ],\n",
       "         [ 0.29164317,  1.4531525 , -0.8223833 , -1.3446563 ,\n",
       "          -0.7183838 , -0.20373915],\n",
       "         [ 0.6291725 , -0.87623316, -0.5923522 ,  0.05643526,\n",
       "          -0.1698349 , -1.0965608 ]],\n",
       "\n",
       "        [[ 0.21116935, -0.41692957,  0.77891093,  0.39689952,\n",
       "          -1.1513817 ,  0.6533925 ],\n",
       "         [ 1.2390149 ,  0.8852658 , -0.67008066, -1.5614101 ,\n",
       "           0.6786617 , -1.0733451 ],\n",
       "         [-0.06093803, -0.99516404,  0.7279114 ,  1.3452564 ,\n",
       "           0.89255804,  0.54797494],\n",
       "         [-0.9483233 , -0.14723077, -0.3514068 ,  0.47631496,\n",
       "           0.52696466,  0.7645016 ]]]], dtype=float32)>"
      ]
     },
     "execution_count": 98,
     "metadata": {},
     "output_type": "execute_result"
    }
   ],
   "source": [
    "# create 4-d tensor of random numbers\n",
    "rank_4_random = tf.random.Generator.from_seed(42)\n",
    "rank_4_random.normal(shape=(3, 2, 4, 6))"
   ]
  },
  {
   "cell_type": "markdown",
   "id": "9258e544-b528-4a2e-9b0a-9b41df56a83b",
   "metadata": {},
   "source": [
    "### tensor info"
   ]
  },
  {
   "cell_type": "code",
   "execution_count": 99,
   "id": "47625d54-a80a-431e-b95c-4bcb0c7d482b",
   "metadata": {},
   "outputs": [
    {
     "data": {
      "text/plain": [
       "(TensorShape([2, 5, 3, 9]), 4, <tf.Tensor: shape=(), dtype=int32, numpy=270>)"
      ]
     },
     "execution_count": 99,
     "metadata": {},
     "output_type": "execute_result"
    }
   ],
   "source": [
    "# get tensor info\n",
    "rank_4_tensor.shape, rank_4_tensor.ndim, tf.size(rank_4_tensor)"
   ]
  },
  {
   "cell_type": "markdown",
   "id": "168056a2-53f9-489f-933f-890f37d440b8",
   "metadata": {},
   "source": [
    "## get various attributes of a tensor"
   ]
  },
  {
   "cell_type": "code",
   "execution_count": 100,
   "id": "d2fd63e2-1c9b-4cc0-a5f7-8a604c45c220",
   "metadata": {},
   "outputs": [
    {
     "name": "stdout",
     "output_type": "stream",
     "text": [
      "Data type of every element <dtype: 'float32'>\n",
      "Number of dimensions (rank) 4\n",
      "Shape of tensor (2, 5, 3, 9)\n",
      "Elements along the 0 axis 2\n",
      "Elements along the last axis 9\n",
      "Total number of elements tf.Tensor(270, shape=(), dtype=int32)\n",
      "Total number of elements (NumPy) 270\n"
     ]
    }
   ],
   "source": [
    "print(\"Data type of every element\", rank_4_tensor.dtype)\n",
    "print(\"Number of dimensions (rank)\", rank_4_tensor.ndim)\n",
    "print(\"Shape of tensor\", rank_4_tensor.shape)\n",
    "print(\"Elements along the 0 axis\", rank_4_tensor.shape[0])\n",
    "print(\"Elements along the last axis\", rank_4_tensor.shape[-1])\n",
    "print(\"Total number of elements\", tf.size(rank_4_tensor))\n",
    "print(\"Total number of elements (NumPy)\", tf.size(rank_4_tensor).numpy())\n",
    "     "
   ]
  },
  {
   "cell_type": "markdown",
   "id": "815ad482-ab3a-4e18-9af6-a410f9f78aac",
   "metadata": {},
   "source": [
    "# indexing tensors\n",
    "Tensors can be indexed just like python lists"
   ]
  },
  {
   "cell_type": "code",
   "execution_count": 101,
   "id": "c84cca04-4646-4690-8aab-0ca08dcf4f12",
   "metadata": {},
   "outputs": [
    {
     "data": {
      "text/plain": [
       "<tf.Tensor: shape=(2, 2, 2, 2), dtype=float32, numpy=\n",
       "array([[[[0., 0.],\n",
       "         [0., 0.]],\n",
       "\n",
       "        [[0., 0.],\n",
       "         [0., 0.]]],\n",
       "\n",
       "\n",
       "       [[[0., 0.],\n",
       "         [0., 0.]],\n",
       "\n",
       "        [[0., 0.],\n",
       "         [0., 0.]]]], dtype=float32)>"
      ]
     },
     "execution_count": 101,
     "metadata": {},
     "output_type": "execute_result"
    }
   ],
   "source": [
    "### get the first 2 elements of each dimension\n",
    "rank_4_tensor[:2, :2, :2, :2]"
   ]
  },
  {
   "cell_type": "code",
   "execution_count": 102,
   "id": "1b3333d6-fef3-4f7f-999e-a2b0dccc7d25",
   "metadata": {},
   "outputs": [
    {
     "data": {
      "text/plain": [
       "<tf.Tensor: shape=(1, 1, 1, 9), dtype=float32, numpy=array([[[[0., 0., 0., 0., 0., 0., 0., 0., 0.]]]], dtype=float32)>"
      ]
     },
     "execution_count": 102,
     "metadata": {},
     "output_type": "execute_result"
    }
   ],
   "source": [
    "### get the first elements of each dimension except for the final one\n",
    "rank_4_tensor[:1, :1, :1, :]\n"
   ]
  },
  {
   "cell_type": "code",
   "execution_count": 103,
   "id": "2241b3f2-d715-4781-b4b2-3e4eeb07fff3",
   "metadata": {},
   "outputs": [
    {
     "data": {
      "text/plain": [
       "(TensorShape([2, 2]), 2)"
      ]
     },
     "execution_count": 103,
     "metadata": {},
     "output_type": "execute_result"
    }
   ],
   "source": [
    "# create a rank 2 tensor\n",
    "rank_2_tensor = tf.constant([\n",
    "                                [10, 7],\n",
    "                                [3, 4]\n",
    "])\n",
    "\n",
    "rank_2_tensor.shape, rank_2_tensor.ndim"
   ]
  },
  {
   "cell_type": "code",
   "execution_count": 104,
   "id": "bcd7bfb6-4c7f-4e5c-a164-258a37bd5cb8",
   "metadata": {},
   "outputs": [
    {
     "data": {
      "text/plain": [
       "4"
      ]
     },
     "execution_count": 104,
     "metadata": {},
     "output_type": "execute_result"
    }
   ],
   "source": [
    "some_list=[1, 2, 3, 4]\n",
    "some_list[-1]"
   ]
  },
  {
   "cell_type": "code",
   "execution_count": 105,
   "id": "17b7b2ba-903e-4297-a2c7-eb89bbbcc2e5",
   "metadata": {},
   "outputs": [
    {
     "data": {
      "text/plain": [
       "<tf.Tensor: shape=(2,), dtype=int32, numpy=array([7, 4], dtype=int32)>"
      ]
     },
     "execution_count": 105,
     "metadata": {},
     "output_type": "execute_result"
    }
   ],
   "source": [
    "# get last temn of each row of rank_2_tensor\n",
    "rank_2_tensor[:, -1]"
   ]
  },
  {
   "cell_type": "markdown",
   "id": "a02ff03b-6a85-4f64-84b0-187d8c7eaf50",
   "metadata": {},
   "source": [
    "## add dimension - METHOD 1"
   ]
  },
  {
   "cell_type": "code",
   "execution_count": 106,
   "id": "902784f1-0246-4e5b-ae53-dccc57b734df",
   "metadata": {},
   "outputs": [
    {
     "data": {
      "text/plain": [
       "<tf.Tensor: shape=(2, 2, 1), dtype=int32, numpy=\n",
       "array([[[10],\n",
       "        [ 7]],\n",
       "\n",
       "       [[ 3],\n",
       "        [ 4]]], dtype=int32)>"
      ]
     },
     "execution_count": 106,
     "metadata": {},
     "output_type": "execute_result"
    }
   ],
   "source": [
    "# add dimension - METHOD 1\n",
    "rank_3_tensor = rank_2_tensor[..., tf.newaxis]\n",
    "rank_3_tensor.ndim\n",
    "rank_3_tensor"
   ]
  },
  {
   "cell_type": "markdown",
   "id": "cab74165-8578-4f63-99de-7ea545f50935",
   "metadata": {},
   "source": [
    "## add dimension - METHOD 2"
   ]
  },
  {
   "cell_type": "code",
   "execution_count": 107,
   "id": "69c9f166-9597-4c8a-8dbe-b4184e8308d2",
   "metadata": {},
   "outputs": [
    {
     "name": "stdout",
     "output_type": "stream",
     "text": [
      "3\n",
      "tf.Tensor(\n",
      "[[[10  7]]\n",
      "\n",
      " [[ 3  4]]], shape=(2, 1, 2), dtype=int32)\n"
     ]
    }
   ],
   "source": [
    "# add dimension - METHOD 2\n",
    "rank_3_tensor_1 = tf.expand_dims(rank_2_tensor, axis=1) # -1 means expand the final axis\n",
    "print(rank_3_tensor_1.ndim)\n",
    "print(rank_3_tensor_1)"
   ]
  },
  {
   "cell_type": "code",
   "execution_count": 108,
   "id": "48fe40e1-dab9-42d0-8afd-50a6bff89b71",
   "metadata": {},
   "outputs": [
    {
     "name": "stdout",
     "output_type": "stream",
     "text": [
      "Data type of every element <dtype: 'int32'>\n",
      "Number of dimensions (rank) 3\n",
      "Shape of tensor (2, 1, 2)\n",
      "Elements along the 0 axis 2\n",
      "Elements along the last axis 2\n",
      "Total number of elements tf.Tensor(4, shape=(), dtype=int32)\n",
      "Total number of elements (NumPy) 4\n"
     ]
    }
   ],
   "source": [
    "print(\"Data type of every element\", rank_3_tensor_1.dtype)\n",
    "print(\"Number of dimensions (rank)\", rank_3_tensor_1.ndim)\n",
    "print(\"Shape of tensor\", rank_3_tensor_1.shape)\n",
    "print(\"Elements along the 0 axis\", rank_3_tensor_1.shape[0])\n",
    "print(\"Elements along the last axis\", rank_3_tensor_1.shape[-1])\n",
    "print(\"Total number of elements\", tf.size(rank_3_tensor_1))\n",
    "print(\"Total number of elements (NumPy)\", tf.size(rank_3_tensor_1).numpy())"
   ]
  },
  {
   "cell_type": "markdown",
   "id": "73eb693c-2605-4a91-b552-c04e7f0da649",
   "metadata": {},
   "source": [
    "# manipulating tensors (Tensor Operations)\n",
    "**Basic Operations**\n",
    "+, -, *, /\n"
   ]
  },
  {
   "cell_type": "code",
   "execution_count": 109,
   "id": "59cec193-ab75-47be-b786-0fe8490b680e",
   "metadata": {},
   "outputs": [
    {
     "name": "stdout",
     "output_type": "stream",
     "text": [
      "operation tf.Tensor(\n",
      "[[100  70]\n",
      " [ 30  40]], shape=(2, 2), dtype=int32)\n",
      "orig tf.Tensor(\n",
      "[[10  7]\n",
      " [ 3  4]], shape=(2, 2), dtype=int32)\n",
      "tf.Tensor(\n",
      "[[20 17]\n",
      " [13 14]], shape=(2, 2), dtype=int32)\n"
     ]
    }
   ],
   "source": [
    "# addition\n",
    "tensor = tf.constant([[10, 7],\n",
    "                      [3, 4]])\n",
    "print(\"operation\", tensor * 10)\n",
    "print(\"orig\", tensor)\n",
    "\n",
    "tensor_add = tensor + 10\n",
    "print(tensor_add)"
   ]
  },
  {
   "cell_type": "markdown",
   "id": "637e2f8a-1a49-40d6-a1cd-8ab415156064",
   "metadata": {},
   "source": [
    "### tenserflow functions"
   ]
  },
  {
   "cell_type": "code",
   "execution_count": 110,
   "id": "4d1df450-a246-4c79-acd5-f13f844528a1",
   "metadata": {},
   "outputs": [
    {
     "data": {
      "text/plain": [
       "<tf.Tensor: shape=(2, 2), dtype=int32, numpy=\n",
       "array([[50, 35],\n",
       "       [15, 20]], dtype=int32)>"
      ]
     },
     "execution_count": 110,
     "metadata": {},
     "output_type": "execute_result"
    }
   ],
   "source": [
    "tf.multiply(tensor, 5)"
   ]
  },
  {
   "cell_type": "markdown",
   "id": "2870fd97-bae4-4ea5-a879-86dbb2237936",
   "metadata": {},
   "source": [
    "# matrix multiplication\n",
    "one of most common tensor operations"
   ]
  },
  {
   "cell_type": "code",
   "execution_count": 111,
   "id": "67ac8fdf-1180-4632-b887-bad2b658288f",
   "metadata": {},
   "outputs": [
    {
     "name": "stdout",
     "output_type": "stream",
     "text": [
      "tf.Tensor(\n",
      "[[10  7]\n",
      " [ 3  4]], shape=(2, 2), dtype=int32)\n"
     ]
    },
    {
     "data": {
      "text/plain": [
       "<tf.Tensor: shape=(2, 2), dtype=int32, numpy=\n",
       "array([[121,  98],\n",
       "       [ 42,  37]], dtype=int32)>"
      ]
     },
     "execution_count": 111,
     "metadata": {},
     "output_type": "execute_result"
    }
   ],
   "source": [
    "# in tensor flow\n",
    "print(tensor)\n",
    "tf.matmul(tensor, tensor)\n"
   ]
  },
  {
   "cell_type": "code",
   "execution_count": 112,
   "id": "d8487a8c-28e9-4e04-9737-e8bbe1b81294",
   "metadata": {},
   "outputs": [
    {
     "data": {
      "text/plain": [
       "<tf.Tensor: shape=(2, 2), dtype=int32, numpy=\n",
       "array([[121,  98],\n",
       "       [ 42,  37]], dtype=int32)>"
      ]
     },
     "execution_count": 112,
     "metadata": {},
     "output_type": "execute_result"
    }
   ],
   "source": [
    "tensor @ tensor  # using pythonmatrix ultiplication"
   ]
  },
  {
   "cell_type": "code",
   "execution_count": 113,
   "id": "51a14e5a-7326-4bf0-b249-d35102d99c03",
   "metadata": {},
   "outputs": [
    {
     "data": {
      "text/plain": [
       "<tf.Tensor: shape=(3, 3), dtype=int32, numpy=\n",
       "array([[1, 2, 5],\n",
       "       [7, 2, 1],\n",
       "       [3, 3, 3]], dtype=int32)>"
      ]
     },
     "execution_count": 113,
     "metadata": {},
     "output_type": "execute_result"
    }
   ],
   "source": [
    "mat_1 = tf.constant([\n",
    "    [1, 2, 5],\n",
    "    [7, 2, 1],\n",
    "    [3, 3, 3]\n",
    "])\n",
    "mat_1"
   ]
  },
  {
   "cell_type": "code",
   "execution_count": 114,
   "id": "a878c922-77fc-405f-bef1-b85650a426c0",
   "metadata": {},
   "outputs": [
    {
     "data": {
      "text/plain": [
       "<tf.Tensor: shape=(3, 2), dtype=int32, numpy=\n",
       "array([[3, 5],\n",
       "       [6, 7],\n",
       "       [1, 8]], dtype=int32)>"
      ]
     },
     "execution_count": 114,
     "metadata": {},
     "output_type": "execute_result"
    }
   ],
   "source": [
    "mat_2 = tf.constant([\n",
    "    [3, 5],\n",
    "    [6, 7],\n",
    "    [1, 8]\n",
    "])\n",
    "mat_2"
   ]
  },
  {
   "cell_type": "code",
   "execution_count": 115,
   "id": "9b9e9496-56cc-404a-a363-883084d91104",
   "metadata": {},
   "outputs": [
    {
     "data": {
      "text/plain": [
       "<tf.Tensor: shape=(3, 2), dtype=int32, numpy=\n",
       "array([[20, 59],\n",
       "       [34, 57],\n",
       "       [30, 60]], dtype=int32)>"
      ]
     },
     "execution_count": 115,
     "metadata": {},
     "output_type": "execute_result"
    }
   ],
   "source": [
    "tf.matmul(mat_1, mat_2)"
   ]
  },
  {
   "cell_type": "code",
   "execution_count": 116,
   "id": "96ef576c-190c-4c7c-9cc0-e97d5faf61bb",
   "metadata": {},
   "outputs": [
    {
     "data": {
      "text/plain": [
       "<tf.Tensor: shape=(3, 2), dtype=int32, numpy=\n",
       "array([[1, 2],\n",
       "       [3, 3],\n",
       "       [5, 6]], dtype=int32)>"
      ]
     },
     "execution_count": 116,
     "metadata": {},
     "output_type": "execute_result"
    }
   ],
   "source": [
    "X = tf.constant([\n",
    "    [1, 2],\n",
    "    [3, 3],\n",
    "    [5, 6]\n",
    "])\n",
    "X"
   ]
  },
  {
   "cell_type": "code",
   "execution_count": 117,
   "id": "44ea6c46-9d55-42c0-93c9-e9addb30a02b",
   "metadata": {},
   "outputs": [
    {
     "data": {
      "text/plain": [
       "<tf.Tensor: shape=(3, 2), dtype=int32, numpy=\n",
       "array([[ 7,  8],\n",
       "       [ 9, 10],\n",
       "       [11, 12]], dtype=int32)>"
      ]
     },
     "execution_count": 117,
     "metadata": {},
     "output_type": "execute_result"
    }
   ],
   "source": [
    "Y = tf.constant([\n",
    "    [7, 8],\n",
    "    [9, 10],\n",
    "    [11, 12]\n",
    "])\n",
    "Y"
   ]
  },
  {
   "cell_type": "code",
   "execution_count": 118,
   "id": "82a83020-df93-42f3-8aba-f18d5bb7bc56",
   "metadata": {},
   "outputs": [
    {
     "data": {
      "text/plain": [
       "<tf.Tensor: shape=(3, 3), dtype=int32, numpy=\n",
       "array([[ 27,  30,  33],\n",
       "       [ 51,  57,  63],\n",
       "       [ 95, 106, 117]], dtype=int32)>"
      ]
     },
     "execution_count": 118,
     "metadata": {},
     "output_type": "execute_result"
    }
   ],
   "source": [
    "X @ tf.reshape(Y, shape=(2,3))"
   ]
  },
  {
   "cell_type": "code",
   "execution_count": 119,
   "id": "fbd5ad59-3a1e-4474-9f3c-069aa7cc89e6",
   "metadata": {},
   "outputs": [
    {
     "name": "stdout",
     "output_type": "stream",
     "text": [
      "tf.Tensor(\n",
      "[[ 7  8]\n",
      " [ 9 10]\n",
      " [11 12]], shape=(3, 2), dtype=int32)\n"
     ]
    }
   ],
   "source": [
    "# change the shape of Y\n",
    "Y.shape, X.shape\n",
    "print(Y)"
   ]
  },
  {
   "cell_type": "code",
   "execution_count": 120,
   "id": "b1772927-3d50-4f04-b002-cd54e81e712b",
   "metadata": {},
   "outputs": [
    {
     "data": {
      "text/plain": [
       "<tf.Tensor: shape=(2, 3), dtype=int32, numpy=\n",
       "array([[ 7,  8,  9],\n",
       "       [10, 11, 12]], dtype=int32)>"
      ]
     },
     "execution_count": 120,
     "metadata": {},
     "output_type": "execute_result"
    }
   ],
   "source": [
    "tf.reshape(Y, shape=(2, 3))"
   ]
  },
  {
   "cell_type": "code",
   "execution_count": 121,
   "id": "3c6a7b4e-f8bc-4261-9a98-246a40010922",
   "metadata": {},
   "outputs": [
    {
     "data": {
      "text/plain": [
       "<tf.Tensor: shape=(3, 3), dtype=int32, numpy=\n",
       "array([[ 27,  30,  33],\n",
       "       [ 51,  57,  63],\n",
       "       [ 95, 106, 117]], dtype=int32)>"
      ]
     },
     "execution_count": 121,
     "metadata": {},
     "output_type": "execute_result"
    }
   ],
   "source": [
    "X @ tf.reshape(Y, shape=(2,3))"
   ]
  },
  {
   "cell_type": "code",
   "execution_count": 122,
   "id": "b0631d64-df11-4e12-b1d1-df0003df90e5",
   "metadata": {},
   "outputs": [
    {
     "data": {
      "text/plain": [
       "<tf.Tensor: shape=(2, 2), dtype=int32, numpy=\n",
       "array([[ 89,  98],\n",
       "       [107, 118]], dtype=int32)>"
      ]
     },
     "execution_count": 122,
     "metadata": {},
     "output_type": "execute_result"
    }
   ],
   "source": [
    "tf.matmul(tf.transpose(X), Y)"
   ]
  },
  {
   "cell_type": "markdown",
   "id": "030b0426-e60d-46d3-bbfe-9df230f1d068",
   "metadata": {},
   "source": [
    "# dot product"
   ]
  },
  {
   "cell_type": "code",
   "execution_count": 123,
   "id": "e8b33b58-2f68-410e-8b12-3759f825b61c",
   "metadata": {},
   "outputs": [
    {
     "name": "stdout",
     "output_type": "stream",
     "text": [
      "tf.Tensor(\n",
      "[[1 2]\n",
      " [3 3]\n",
      " [5 6]], shape=(3, 2), dtype=int32)\n",
      "tf.Tensor(\n",
      "[[ 7  8]\n",
      " [ 9 10]\n",
      " [11 12]], shape=(3, 2), dtype=int32)\n"
     ]
    }
   ],
   "source": [
    "# perform do product on X and Y (requires X or Y to be transposed)\n",
    "print(X)\n",
    "print(Y)"
   ]
  },
  {
   "cell_type": "code",
   "execution_count": 124,
   "id": "7d170789-5b50-4985-9f00-d3626ca2c22e",
   "metadata": {},
   "outputs": [
    {
     "data": {
      "text/plain": [
       "<tf.Tensor: shape=(2, 2), dtype=int32, numpy=\n",
       "array([[ 89,  98],\n",
       "       [107, 118]], dtype=int32)>"
      ]
     },
     "execution_count": 124,
     "metadata": {},
     "output_type": "execute_result"
    }
   ],
   "source": [
    "# perform do product on X and Y (requires X or Y to be transposed)\n",
    "tf.tensordot(tf.transpose(X), Y, axes=1)"
   ]
  },
  {
   "cell_type": "code",
   "execution_count": 125,
   "id": "8e17735f-3767-49ea-8770-126e9407a254",
   "metadata": {},
   "outputs": [
    {
     "data": {
      "text/plain": [
       "<tf.Tensor: shape=(3, 3), dtype=int32, numpy=\n",
       "array([[ 23,  29,  35],\n",
       "       [ 45,  57,  69],\n",
       "       [ 83, 105, 127]], dtype=int32)>"
      ]
     },
     "execution_count": 125,
     "metadata": {},
     "output_type": "execute_result"
    }
   ],
   "source": [
    "# perform matrix multiplication between X & Y (transposed)\n",
    "tf.matmul(X, tf.transpose(Y))"
   ]
  },
  {
   "cell_type": "code",
   "execution_count": 126,
   "id": "cc23fea9-9be4-45cb-b560-10bb5e5ba7f4",
   "metadata": {},
   "outputs": [
    {
     "data": {
      "text/plain": [
       "<tf.Tensor: shape=(3, 3), dtype=int32, numpy=\n",
       "array([[ 27,  30,  33],\n",
       "       [ 51,  57,  63],\n",
       "       [ 95, 106, 117]], dtype=int32)>"
      ]
     },
     "execution_count": 126,
     "metadata": {},
     "output_type": "execute_result"
    }
   ],
   "source": [
    "# perform matrix multiplication between X & Y (reshaped)\n",
    "tf.matmul(X, tf.reshape(Y, shape=(2,3)))\n"
   ]
  },
  {
   "cell_type": "code",
   "execution_count": 127,
   "id": "92b9996d-f56e-4df2-80f2-c113ef506366",
   "metadata": {},
   "outputs": [
    {
     "name": "stdout",
     "output_type": "stream",
     "text": [
      "normal Y: tf.Tensor(\n",
      "[[ 7  8]\n",
      " [ 9 10]\n",
      " [11 12]], shape=(3, 2), dtype=int32)\n",
      "transposed Y: tf.Tensor(\n",
      "[[ 7  9 11]\n",
      " [ 8 10 12]], shape=(2, 3), dtype=int32)\n",
      "reshaped Y: tf.Tensor(\n",
      "[[ 7  8  9]\n",
      " [10 11 12]], shape=(2, 3), dtype=int32)\n"
     ]
    }
   ],
   "source": [
    "# check the values of Y, reshaoe Y and transpose Y\n",
    "print(\"normal Y:\", Y)\n",
    "print(\"transposed Y:\", tf.transpose(Y))\n",
    "print(\"reshaped Y:\", tf.reshape(Y, shape=(2,3)))\n"
   ]
  },
  {
   "cell_type": "markdown",
   "id": "249c0aab-1d71-4856-bd0d-2eafa1356de5",
   "metadata": {},
   "source": [
    "### change datatype of a tensor\n"
   ]
  },
  {
   "cell_type": "code",
   "execution_count": 128,
   "id": "bbc49f1c-5378-4c5c-ab04-ab3568ecbeca",
   "metadata": {},
   "outputs": [
    {
     "data": {
      "text/plain": [
       "'2.18.0'"
      ]
     },
     "execution_count": 128,
     "metadata": {},
     "output_type": "execute_result"
    }
   ],
   "source": [
    "tf.__version__"
   ]
  },
  {
   "cell_type": "code",
   "execution_count": 129,
   "id": "7adcdc85-5834-4591-9920-35161ed10a07",
   "metadata": {},
   "outputs": [
    {
     "data": {
      "text/plain": [
       "tf.float32"
      ]
     },
     "execution_count": 129,
     "metadata": {},
     "output_type": "execute_result"
    }
   ],
   "source": [
    "B = tf.constant([1.7, 7.4])\n",
    "B.dtype"
   ]
  },
  {
   "cell_type": "code",
   "execution_count": 130,
   "id": "c59b060e-1563-49fe-9120-3cae33f713ff",
   "metadata": {},
   "outputs": [
    {
     "data": {
      "text/plain": [
       "tf.int32"
      ]
     },
     "execution_count": 130,
     "metadata": {},
     "output_type": "execute_result"
    }
   ],
   "source": [
    "C = tf.constant([1, 7])\n",
    "C.dtype"
   ]
  },
  {
   "cell_type": "code",
   "execution_count": 131,
   "id": "b97d3359-82ab-413a-b395-0637d2fbee8a",
   "metadata": {},
   "outputs": [
    {
     "data": {
      "text/plain": [
       "<tf.Tensor: shape=(2,), dtype=float16, numpy=array([1.7, 7.4], dtype=float16)>"
      ]
     },
     "execution_count": 131,
     "metadata": {},
     "output_type": "execute_result"
    }
   ],
   "source": [
    "# change from float32 float16\n",
    "D = tf.cast(B, dtype=tf.float16)\n",
    "D"
   ]
  },
  {
   "cell_type": "code",
   "execution_count": 132,
   "id": "beb2d83f-c8cd-4227-a000-f1df5f72f489",
   "metadata": {},
   "outputs": [
    {
     "data": {
      "text/plain": [
       "<tf.Tensor: shape=(2,), dtype=float32, numpy=array([1., 7.], dtype=float32)>"
      ]
     },
     "execution_count": 132,
     "metadata": {},
     "output_type": "execute_result"
    }
   ],
   "source": [
    "# change from inti32 to float32\n",
    "E = tf.cast(C, dtype=tf.float32)\n",
    "E"
   ]
  },
  {
   "cell_type": "code",
   "execution_count": 133,
   "id": "8b5580cd-fdc7-4c2a-8780-fdde97e1c58e",
   "metadata": {},
   "outputs": [
    {
     "data": {
      "text/plain": [
       "<tf.Tensor: shape=(2,), dtype=float16, numpy=array([1., 7.], dtype=float16)>"
      ]
     },
     "execution_count": 133,
     "metadata": {},
     "output_type": "execute_result"
    }
   ],
   "source": [
    "E_float16 = tf.cast(E, dtype=tf.float16)\n",
    "E_float16"
   ]
  },
  {
   "cell_type": "markdown",
   "id": "646644f3-6f99-4760-9f29-fb2fc96a26c4",
   "metadata": {},
   "source": [
    "### aggregating\n",
    "\n",
    "Aggregating tensors = condensing them from multiple values down to a smaller amount of values\n"
   ]
  },
  {
   "cell_type": "code",
   "execution_count": 134,
   "id": "1d6b4631-0203-43f4-9a80-ca7faab34e76",
   "metadata": {},
   "outputs": [
    {
     "data": {
      "text/plain": [
       "<tf.Tensor: shape=(2,), dtype=int32, numpy=array([ -7, -10], dtype=int32)>"
      ]
     },
     "execution_count": 134,
     "metadata": {},
     "output_type": "execute_result"
    }
   ],
   "source": [
    "# get absolute values\n",
    "D = tf.constant([-7, -10])\n",
    "D"
   ]
  },
  {
   "cell_type": "code",
   "execution_count": 135,
   "id": "71c91275-cc3a-42d7-8799-f67cd43c6c56",
   "metadata": {},
   "outputs": [
    {
     "data": {
      "text/plain": [
       "<tf.Tensor: shape=(2,), dtype=int32, numpy=array([ 7, 10], dtype=int32)>"
      ]
     },
     "execution_count": 135,
     "metadata": {},
     "output_type": "execute_result"
    }
   ],
   "source": [
    "tf.abs(D)"
   ]
  },
  {
   "cell_type": "markdown",
   "id": "0e6bd6a2-ffdb-423a-89ac-d16327897af6",
   "metadata": {},
   "source": [
    "Forms of aggegation\n",
    "* minimum\n",
    "* maximumm\n",
    "* mean of a tensor\n",
    "* sum of a tensor"
   ]
  },
  {
   "cell_type": "code",
   "execution_count": 136,
   "id": "d8f8e1fa-0f65-46e9-83e3-f416b6cd6d68",
   "metadata": {},
   "outputs": [
    {
     "data": {
      "text/plain": [
       "<tf.Tensor: shape=(3, 3), dtype=int32, numpy=\n",
       "array([[1, 2, 3],\n",
       "       [4, 5, 6],\n",
       "       [7, 8, 9]], dtype=int32)>"
      ]
     },
     "execution_count": 136,
     "metadata": {},
     "output_type": "execute_result"
    }
   ],
   "source": [
    "agg_1 = tf.constant([\n",
    "    [1,2,3],\n",
    "    [4,5,6],\n",
    "    [7,8,9]\n",
    "])\n",
    "agg_1"
   ]
  },
  {
   "cell_type": "code",
   "execution_count": 137,
   "id": "1362e441-ecbe-4f4b-9da3-9b008fd1f556",
   "metadata": {},
   "outputs": [
    {
     "data": {
      "text/plain": [
       "<tf.Tensor: shape=(3, 3), dtype=int32, numpy=\n",
       "array([[10, 11, 16],\n",
       "       [12, 13, 17],\n",
       "       [14, 15, 18]], dtype=int32)>"
      ]
     },
     "execution_count": 137,
     "metadata": {},
     "output_type": "execute_result"
    }
   ],
   "source": [
    "agg_2 = tf.constant([\n",
    "    [10, 11, 16],\n",
    "    [12, 13, 17],\n",
    "    [14, 15, 18]\n",
    "])\n",
    "agg_2"
   ]
  },
  {
   "cell_type": "code",
   "execution_count": 138,
   "id": "06c15f5e-ad27-4f49-8d6b-ef3282ded7ef",
   "metadata": {},
   "outputs": [
    {
     "name": "stdout",
     "output_type": "stream",
     "text": [
      "min tf.Tensor(\n",
      "[[1 2 3]\n",
      " [4 5 6]\n",
      " [7 8 9]], shape=(3, 3), dtype=int32)\n",
      "max tf.Tensor(\n",
      "[[10 11 16]\n",
      " [12 13 17]\n",
      " [14 15 18]], shape=(3, 3), dtype=int32)\n",
      "mean_1 tf.Tensor(5, shape=(), dtype=int32)\n",
      "mean_2 tf.Tensor(14, shape=(), dtype=int32)\n",
      "sum_1 tf.Tensor(45, shape=(), dtype=int32)\n",
      "sum_2 tf.Tensor(126, shape=(), dtype=int32)\n"
     ]
    }
   ],
   "source": [
    "print(\"min\", tf.minimum(agg_1, agg_2))\n",
    "print(\"max\", tf.maximum(agg_1, agg_2))\n",
    "print(\"mean_1\", tf.reduce_mean(agg_1))\n",
    "print(\"mean_2\", tf.reduce_mean(agg_2))\n",
    "print(\"sum_1\", tf.reduce_sum(agg_1))\n",
    "print(\"sum_2\", tf.reduce_sum(agg_2))\n"
   ]
  },
  {
   "cell_type": "code",
   "execution_count": 139,
   "id": "1d050035-d7f0-47ab-a5c8-ea3793b01441",
   "metadata": {},
   "outputs": [
    {
     "data": {
      "text/plain": [
       "<tf.Tensor: shape=(50,), dtype=int64, numpy=\n",
       "array([45, 83, 48, 82, 22, 57, 48,  1, 36, 17,  7, 29, 50, 13, 72, 97, 22,\n",
       "       92, 49, 48, 79,  2, 79, 50, 64, 96, 79, 79, 98, 96, 48, 30, 64, 25,\n",
       "       20, 99, 97, 96, 95, 64, 54, 11, 25, 80, 81, 42, 13, 16, 22,  9])>"
      ]
     },
     "execution_count": 139,
     "metadata": {},
     "output_type": "execute_result"
    }
   ],
   "source": [
    "E =  tf.constant(np.random.randint(0, 100, size=50))\n",
    "E"
   ]
  },
  {
   "cell_type": "code",
   "execution_count": 140,
   "id": "cd582598-5c4d-44a6-91fd-a5268d847892",
   "metadata": {},
   "outputs": [
    {
     "data": {
      "text/plain": [
       "(<tf.Tensor: shape=(), dtype=int32, numpy=50>, TensorShape([50]), 1)"
      ]
     },
     "execution_count": 140,
     "metadata": {},
     "output_type": "execute_result"
    }
   ],
   "source": [
    "tf.size(E), E.shape, E.ndim"
   ]
  },
  {
   "cell_type": "code",
   "execution_count": 141,
   "id": "37282a7f-d89f-4c67-ac4c-bffd89aca4c8",
   "metadata": {},
   "outputs": [
    {
     "data": {
      "text/plain": [
       "<tf.Tensor: shape=(), dtype=int64, numpy=1>"
      ]
     },
     "execution_count": 141,
     "metadata": {},
     "output_type": "execute_result"
    }
   ],
   "source": [
    "tf.reduce_min(E)"
   ]
  },
  {
   "cell_type": "code",
   "execution_count": 142,
   "id": "aa7ed0c6-7566-4084-af84-ccad036aa59b",
   "metadata": {},
   "outputs": [
    {
     "data": {
      "text/plain": [
       "<tf.Tensor: shape=(), dtype=int64, numpy=99>"
      ]
     },
     "execution_count": 142,
     "metadata": {},
     "output_type": "execute_result"
    }
   ],
   "source": [
    "tf.reduce_max(E)"
   ]
  },
  {
   "cell_type": "code",
   "execution_count": 143,
   "id": "a8af4f5e-8c7d-4757-924e-4c7172220ae4",
   "metadata": {},
   "outputs": [
    {
     "data": {
      "text/plain": [
       "<tf.Tensor: shape=(), dtype=int64, numpy=52>"
      ]
     },
     "execution_count": 143,
     "metadata": {},
     "output_type": "execute_result"
    }
   ],
   "source": [
    "tf.reduce_mean(E)"
   ]
  },
  {
   "cell_type": "code",
   "execution_count": 144,
   "id": "2656e9f0-4af9-4468-bb14-f8e87994b946",
   "metadata": {},
   "outputs": [
    {
     "data": {
      "text/plain": [
       "<tf.Tensor: shape=(), dtype=int64, numpy=2631>"
      ]
     },
     "execution_count": 144,
     "metadata": {},
     "output_type": "execute_result"
    }
   ],
   "source": [
    "tf.reduce_sum(E)"
   ]
  },
  {
   "cell_type": "code",
   "execution_count": 145,
   "id": "5d84b244-a89d-40c1-b27f-09e9caf9945a",
   "metadata": {},
   "outputs": [
    {
     "data": {
      "text/plain": [
       "<tf.Tensor: shape=(), dtype=float32, numpy=955.515625>"
      ]
     },
     "execution_count": 145,
     "metadata": {},
     "output_type": "execute_result"
    }
   ],
   "source": [
    "import tensorflow_probability as tfp\n",
    "tfp.stats.variance(tf.cast(E, dtype=tf.float32))"
   ]
  },
  {
   "cell_type": "code",
   "execution_count": 146,
   "id": "b9c95a2b-77f7-4d25-aba2-cc6a7e157db5",
   "metadata": {},
   "outputs": [
    {
     "data": {
      "text/plain": [
       "<tf.Tensor: shape=(), dtype=float32, numpy=30.911415100097656>"
      ]
     },
     "execution_count": 146,
     "metadata": {},
     "output_type": "execute_result"
    }
   ],
   "source": [
    "tf.math.reduce_std(tf.cast(E, dtype=tf.float32))"
   ]
  },
  {
   "cell_type": "markdown",
   "id": "e3e1a1ad-1234-4cae-be22-c9ab072e591a",
   "metadata": {},
   "source": [
    "# positional parameters"
   ]
  },
  {
   "cell_type": "code",
   "execution_count": 147,
   "id": "5bac394c-dbf1-4479-b615-7f84cca267cf",
   "metadata": {},
   "outputs": [
    {
     "data": {
      "text/plain": [
       "<tf.Tensor: shape=(50,), dtype=float32, numpy=\n",
       "array([0.6645621 , 0.44100678, 0.3528825 , 0.46448255, 0.03366041,\n",
       "       0.68467236, 0.74011743, 0.8724445 , 0.22632635, 0.22319686,\n",
       "       0.3103881 , 0.7223358 , 0.13318717, 0.5480639 , 0.5746088 ,\n",
       "       0.8996835 , 0.00946367, 0.5212307 , 0.6345445 , 0.1993283 ,\n",
       "       0.72942245, 0.54583454, 0.10756552, 0.6767061 , 0.6602763 ,\n",
       "       0.33695042, 0.60141766, 0.21062577, 0.8527372 , 0.44062173,\n",
       "       0.9485276 , 0.23752594, 0.81179297, 0.5263394 , 0.494308  ,\n",
       "       0.21612847, 0.8457197 , 0.8718841 , 0.3083862 , 0.6868038 ,\n",
       "       0.23764038, 0.7817228 , 0.9671384 , 0.06870162, 0.79873943,\n",
       "       0.66028714, 0.5871513 , 0.16461694, 0.7381023 , 0.32054043],\n",
       "      dtype=float32)>"
      ]
     },
     "execution_count": 147,
     "metadata": {},
     "output_type": "execute_result"
    }
   ],
   "source": [
    "# new tensor\n",
    "tf.random.set_seed(42)\n",
    "F = tf.random.uniform(shape=[50])\n",
    "F"
   ]
  },
  {
   "cell_type": "code",
   "execution_count": 148,
   "id": "b118b0f6-b535-4eb2-adf6-9a50a24c27b4",
   "metadata": {},
   "outputs": [
    {
     "data": {
      "text/plain": [
       "<tf.Tensor: shape=(), dtype=int64, numpy=42>"
      ]
     },
     "execution_count": 148,
     "metadata": {},
     "output_type": "execute_result"
    }
   ],
   "source": [
    "# Find the positional maximum\n",
    "pos_max = tf.argmax(F)\n",
    "pos_max"
   ]
  },
  {
   "cell_type": "code",
   "execution_count": 149,
   "id": "e2ff9330-0e62-411b-a385-a8caebc0f4b5",
   "metadata": {
    "scrolled": true
   },
   "outputs": [
    {
     "data": {
      "text/plain": [
       "<tf.Tensor: shape=(), dtype=float32, numpy=0.967138409614563>"
      ]
     },
     "execution_count": 149,
     "metadata": {},
     "output_type": "execute_result"
    }
   ],
   "source": [
    "# index on out largest value position\n",
    "val_max = F[tf.argmax(F)]\n",
    "val_max"
   ]
  },
  {
   "cell_type": "code",
   "execution_count": 150,
   "id": "9aaf0290-bb4c-4a46-a685-055525617654",
   "metadata": {},
   "outputs": [
    {
     "data": {
      "text/plain": [
       "<tf.Tensor: shape=(), dtype=bool, numpy=True>"
      ]
     },
     "execution_count": 150,
     "metadata": {},
     "output_type": "execute_result"
    }
   ],
   "source": [
    "# check for equality\n",
    "F[tf.argmax(F)] == tf.reduce_max(F)"
   ]
  },
  {
   "cell_type": "code",
   "execution_count": 151,
   "id": "223b0f4c-7302-4278-bb28-723c9e9f2113",
   "metadata": {},
   "outputs": [
    {
     "data": {
      "text/plain": [
       "<tf.Tensor: shape=(), dtype=float32, numpy=0.009463667869567871>"
      ]
     },
     "execution_count": 151,
     "metadata": {},
     "output_type": "execute_result"
    }
   ],
   "source": [
    "# find the positional minimum\n",
    "pos_min = tf.argmin(F)\n",
    "pos_min\n",
    "\n",
    "val_min = F[tf.argmin(F)]\n",
    "val_min\n"
   ]
  },
  {
   "cell_type": "markdown",
   "id": "6f2ee162-dee6-49ef-9fe2-c5f257719826",
   "metadata": {},
   "source": [
    "## squeezing a tensor (removing all single dimensions)"
   ]
  },
  {
   "cell_type": "code",
   "execution_count": 152,
   "id": "44a7be66-3e5a-4023-a9c0-5983996261ba",
   "metadata": {},
   "outputs": [
    {
     "data": {
      "text/plain": [
       "<tf.Tensor: shape=(1, 1, 1, 1, 50), dtype=float32, numpy=\n",
       "array([[[[[0.6645621 , 0.44100678, 0.3528825 , 0.46448255, 0.03366041,\n",
       "           0.68467236, 0.74011743, 0.8724445 , 0.22632635, 0.22319686,\n",
       "           0.3103881 , 0.7223358 , 0.13318717, 0.5480639 , 0.5746088 ,\n",
       "           0.8996835 , 0.00946367, 0.5212307 , 0.6345445 , 0.1993283 ,\n",
       "           0.72942245, 0.54583454, 0.10756552, 0.6767061 , 0.6602763 ,\n",
       "           0.33695042, 0.60141766, 0.21062577, 0.8527372 , 0.44062173,\n",
       "           0.9485276 , 0.23752594, 0.81179297, 0.5263394 , 0.494308  ,\n",
       "           0.21612847, 0.8457197 , 0.8718841 , 0.3083862 , 0.6868038 ,\n",
       "           0.23764038, 0.7817228 , 0.9671384 , 0.06870162, 0.79873943,\n",
       "           0.66028714, 0.5871513 , 0.16461694, 0.7381023 , 0.32054043]]]]],\n",
       "      dtype=float32)>"
      ]
     },
     "execution_count": 152,
     "metadata": {},
     "output_type": "execute_result"
    }
   ],
   "source": [
    "# create a tensor\n",
    "tf.random.set_seed(42)\n",
    "G = tf.constant(tf.random.uniform(shape=[50]), shape=(1, 1, 1, 1, 50))\n",
    "G"
   ]
  },
  {
   "cell_type": "code",
   "execution_count": 153,
   "id": "6c564699-0fea-412a-9cc5-8545b33ef45f",
   "metadata": {},
   "outputs": [
    {
     "data": {
      "text/plain": [
       "TensorShape([1, 1, 1, 1, 50])"
      ]
     },
     "execution_count": 153,
     "metadata": {},
     "output_type": "execute_result"
    }
   ],
   "source": [
    "G.shape"
   ]
  },
  {
   "cell_type": "code",
   "execution_count": 154,
   "id": "374f5424-0472-4fc1-845e-88a5092e8fef",
   "metadata": {},
   "outputs": [
    {
     "data": {
      "text/plain": [
       "(<tf.Tensor: shape=(50,), dtype=float32, numpy=\n",
       " array([0.6645621 , 0.44100678, 0.3528825 , 0.46448255, 0.03366041,\n",
       "        0.68467236, 0.74011743, 0.8724445 , 0.22632635, 0.22319686,\n",
       "        0.3103881 , 0.7223358 , 0.13318717, 0.5480639 , 0.5746088 ,\n",
       "        0.8996835 , 0.00946367, 0.5212307 , 0.6345445 , 0.1993283 ,\n",
       "        0.72942245, 0.54583454, 0.10756552, 0.6767061 , 0.6602763 ,\n",
       "        0.33695042, 0.60141766, 0.21062577, 0.8527372 , 0.44062173,\n",
       "        0.9485276 , 0.23752594, 0.81179297, 0.5263394 , 0.494308  ,\n",
       "        0.21612847, 0.8457197 , 0.8718841 , 0.3083862 , 0.6868038 ,\n",
       "        0.23764038, 0.7817228 , 0.9671384 , 0.06870162, 0.79873943,\n",
       "        0.66028714, 0.5871513 , 0.16461694, 0.7381023 , 0.32054043],\n",
       "       dtype=float32)>,\n",
       " TensorShape([50]))"
      ]
     },
     "execution_count": 154,
     "metadata": {},
     "output_type": "execute_result"
    }
   ],
   "source": [
    "# remove dimensions of size 1 from the shape of a tensor\n",
    "G_squeezed = tf.squeeze(G)\n",
    "G_squeezed, G_squeezed.shape"
   ]
  },
  {
   "cell_type": "markdown",
   "id": "ac434bc5-3d37-4909-ac09-3cfeddee96e0",
   "metadata": {},
   "source": [
    "# one-hot encoding"
   ]
  },
  {
   "cell_type": "code",
   "execution_count": 161,
   "id": "e7df83dd-f428-45d7-bd99-6d6eb4711e3b",
   "metadata": {},
   "outputs": [
    {
     "data": {
      "text/plain": [
       "<tf.Tensor: shape=(4, 4), dtype=float32, numpy=\n",
       "array([[1., 0., 0., 0.],\n",
       "       [0., 1., 0., 0.],\n",
       "       [0., 0., 1., 0.],\n",
       "       [0., 0., 0., 1.]], dtype=float32)>"
      ]
     },
     "execution_count": 161,
     "metadata": {},
     "output_type": "execute_result"
    }
   ],
   "source": [
    "# creare a list of indices\n",
    "some_list = [0, 1, 2, 3] # i.e could be red, gree, blue. purple\n",
    "\n",
    "# one hot encode list of indices\n",
    "depth = 4\n",
    "one_hot_lst = tf.one_hot(some_list, depth)\n",
    "\n",
    "one_hot_lst\n"
   ]
  },
  {
   "cell_type": "code",
   "execution_count": 163,
   "id": "0ae1b21b-c0d0-46ff-aca8-f3c13eb35aa8",
   "metadata": {},
   "outputs": [
    {
     "data": {
      "text/plain": [
       "<tf.Tensor: shape=(4, 4), dtype=string, numpy=\n",
       "array([[b'havana banana', b'arjuna', b'arjuna', b'arjuna'],\n",
       "       [b'arjuna', b'havana banana', b'arjuna', b'arjuna'],\n",
       "       [b'arjuna', b'arjuna', b'havana banana', b'arjuna'],\n",
       "       [b'arjuna', b'arjuna', b'arjuna', b'havana banana']], dtype=object)>"
      ]
     },
     "execution_count": 163,
     "metadata": {},
     "output_type": "execute_result"
    }
   ],
   "source": [
    "# specify custome values for one-hot\n",
    "oh_lst = tf.one_hot(some_list, depth, on_value=\"havana banana\", off_value=\"arjuna\")\n",
    "oh_lst"
   ]
  },
  {
   "cell_type": "markdown",
   "id": "b350dd96-c908-4205-a30c-411f6d8b694c",
   "metadata": {},
   "source": [
    "## squaring; log; square root"
   ]
  },
  {
   "cell_type": "code",
   "execution_count": 178,
   "id": "a1d5facb-2b74-41c8-ad0a-0dc4b4892db8",
   "metadata": {},
   "outputs": [
    {
     "data": {
      "text/plain": [
       "<tf.Tensor: shape=(9,), dtype=int32, numpy=array([1, 2, 3, 4, 5, 6, 7, 8, 9], dtype=int32)>"
      ]
     },
     "execution_count": 178,
     "metadata": {},
     "output_type": "execute_result"
    }
   ],
   "source": [
    "tf.random.set_seed(42)\n",
    "# H = tf.constant(tf.random.uniform(shape=[50]))\n",
    "H = tf.range(1, 10)\n",
    "H\n"
   ]
  },
  {
   "cell_type": "code",
   "execution_count": 179,
   "id": "2f9cd80c-f557-492c-becb-772fe5e7d804",
   "metadata": {},
   "outputs": [
    {
     "data": {
      "text/plain": [
       "<tf.Tensor: shape=(9,), dtype=int32, numpy=array([ 1,  4,  9, 16, 25, 36, 49, 64, 81], dtype=int32)>"
      ]
     },
     "execution_count": 179,
     "metadata": {},
     "output_type": "execute_result"
    }
   ],
   "source": [
    "# square\n",
    "tf.square(H)"
   ]
  },
  {
   "cell_type": "code",
   "execution_count": 184,
   "id": "8eddff2a-800a-447e-a985-02adb0a904d5",
   "metadata": {},
   "outputs": [
    {
     "data": {
      "text/plain": [
       "<tf.Tensor: shape=(9,), dtype=float16, numpy=\n",
       "array([0.    , 0.6934, 1.099 , 1.387 , 1.609 , 1.792 , 1.946 , 2.08  ,\n",
       "       2.197 ], dtype=float16)>"
      ]
     },
     "execution_count": 184,
     "metadata": {},
     "output_type": "execute_result"
    }
   ],
   "source": [
    "# log\n",
    "tf.math.log(tf.cast(H, dtype=tf.float16))"
   ]
  },
  {
   "cell_type": "code",
   "execution_count": 185,
   "id": "3cc38a36-84b1-433b-9705-7f1a2c5bd17a",
   "metadata": {},
   "outputs": [
    {
     "data": {
      "text/plain": [
       "<tf.Tensor: shape=(9,), dtype=float32, numpy=\n",
       "array([1.       , 1.4142135, 1.7320508, 2.       , 2.236068 , 2.4494898,\n",
       "       2.6457512, 2.828427 , 3.       ], dtype=float32)>"
      ]
     },
     "execution_count": 185,
     "metadata": {},
     "output_type": "execute_result"
    }
   ],
   "source": [
    "# square root\n",
    "tf.sqrt(tf.cast(H, dtype=tf.float32))"
   ]
  },
  {
   "cell_type": "markdown",
   "id": "c27623f4-0459-4218-a25c-62c0d96b61ad",
   "metadata": {},
   "source": [
    "# tensors with NumPy"
   ]
  },
  {
   "cell_type": "code",
   "execution_count": 187,
   "id": "7dd86043-4325-493d-82ad-168f345b4e5b",
   "metadata": {},
   "outputs": [
    {
     "data": {
      "text/plain": [
       "<tf.Tensor: shape=(3,), dtype=float64, numpy=array([ 3.,  7., 10.])>"
      ]
     },
     "execution_count": 187,
     "metadata": {},
     "output_type": "execute_result"
    }
   ],
   "source": [
    "# reate a tensor directly fromma NumPy array\n",
    "\n",
    "J = tf.constant(np.array([3., 7., 10.]))\n",
    "J"
   ]
  },
  {
   "cell_type": "code",
   "execution_count": 188,
   "id": "5e298a63-13c4-42bd-b304-8566182353d0",
   "metadata": {},
   "outputs": [
    {
     "data": {
      "text/plain": [
       "(array([ 3.,  7., 10.]), numpy.ndarray)"
      ]
     },
     "execution_count": 188,
     "metadata": {},
     "output_type": "execute_result"
    }
   ],
   "source": [
    "# convert tensor a to a NumPy array\n",
    "np.array(J), type(np.array(J))"
   ]
  },
  {
   "cell_type": "code",
   "execution_count": 191,
   "id": "de00cada-3d8a-4994-9d9e-3d199ff68210",
   "metadata": {},
   "outputs": [
    {
     "name": "stdout",
     "output_type": "stream",
     "text": [
      "[ 3.  7. 10.] <class 'numpy.ndarray'>\n"
     ]
    }
   ],
   "source": [
    "J_array = np.array(J)\n",
    "print(J_array, type(J_array))"
   ]
  },
  {
   "cell_type": "code",
   "execution_count": 198,
   "id": "c824913e-3c74-4b12-a154-7cbad0cc75dc",
   "metadata": {},
   "outputs": [
    {
     "name": "stdout",
     "output_type": "stream",
     "text": [
      "numpy_J tf.Tensor([ 3.  7. 10.], shape=(3,), dtype=float64)\n",
      "tensor_J tf.Tensor([ 3.  7. 10.], shape=(3,), dtype=float32)\n",
      "<dtype: 'float64'> <dtype: 'float32'>\n"
     ]
    }
   ],
   "source": [
    "# default types of each slightly different\n",
    "numpy_J = tf.constant(np.array([3., 7., 10.]))\n",
    "tensor_J = tf.constant([3., 7., 10.])\n",
    "\n",
    "print(\"numpy_J\", numpy_J)\n",
    "print(\"tensor_J\", tensor_J)\n",
    "\n",
    "print(numpy_J.dtype, tensor_J.dtype)\n"
   ]
  },
  {
   "cell_type": "code",
   "execution_count": null,
   "id": "d3a7fb46-3114-449b-a7f6-3088d5c36efe",
   "metadata": {},
   "outputs": [],
   "source": []
  }
 ],
 "metadata": {
  "kernelspec": {
   "display_name": "Python 3 (ipykernel)",
   "language": "python",
   "name": "python3"
  },
  "language_info": {
   "codemirror_mode": {
    "name": "ipython",
    "version": 3
   },
   "file_extension": ".py",
   "mimetype": "text/x-python",
   "name": "python",
   "nbconvert_exporter": "python",
   "pygments_lexer": "ipython3",
   "version": "3.11.11"
  }
 },
 "nbformat": 4,
 "nbformat_minor": 5
}
